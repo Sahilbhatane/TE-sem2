{
 "cells": [
  {
   "cell_type": "code",
   "execution_count": 1,
   "id": "77a543f4",
   "metadata": {},
   "outputs": [],
   "source": [
    "import pandas as pd"
   ]
  },
  {
   "cell_type": "code",
   "execution_count": null,
   "id": "5b01875f",
   "metadata": {},
   "outputs": [],
   "source": [
    "data = pd.read_csv(\"Iris.csv\")\n",
    "print('Iris-setosa')"
   ]
  },
  {
   "cell_type": "code",
   "execution_count": null,
   "id": "be53de8c",
   "metadata": {},
   "outputs": [],
   "source": [
    "setosa = data['Species'] == 'Iris-setosa'\n",
    "print(data[setosa].describe())"
   ]
  },
  {
   "cell_type": "code",
   "execution_count": null,
   "id": "ba073165",
   "metadata": {},
   "outputs": [],
   "source": [
    "print('\\nIris-versicolor')\n",
    "setosa = data['Species'] == 'Iris-versicolor'\n",
    "print(data[setosa].describe())\n",
    "\n"
   ]
  },
  {
   "cell_type": "code",
   "execution_count": null,
   "id": "9e5ba05c",
   "metadata": {},
   "outputs": [],
   "source": [
    "print('\\nIris-virginica')\n",
    "setosa = data['Species'] == 'Iris-virginica'\n",
    "print(data[setosa].describe())\n"
   ]
  }
 ],
 "metadata": {
  "kernelspec": {
   "display_name": "Python 3",
   "language": "python",
   "name": "python3"
  },
  "language_info": {
   "codemirror_mode": {
    "name": "ipython",
    "version": 3
   },
   "file_extension": ".py",
   "mimetype": "text/x-python",
   "name": "python",
   "nbconvert_exporter": "python",
   "pygments_lexer": "ipython3",
   "version": "3.11.2"
  }
 },
 "nbformat": 4,
 "nbformat_minor": 5
}
