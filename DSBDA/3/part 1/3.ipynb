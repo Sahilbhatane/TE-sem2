{
 "cells": [
  {
   "cell_type": "code",
   "execution_count": 35,
   "id": "01496bfb",
   "metadata": {},
   "outputs": [],
   "source": [
    "import pandas as pd\n",
    "import numpy as np\n",
    "import statistics as st"
   ]
  },
  {
   "cell_type": "code",
   "execution_count": 36,
   "id": "11bf972f",
   "metadata": {},
   "outputs": [],
   "source": [
    "df = pd.read_csv(\"loan.csv\");"
   ]
  },
  {
   "cell_type": "code",
   "execution_count": null,
   "id": "051edb1e",
   "metadata": {},
   "outputs": [],
   "source": [
    "print(df.shape)"
   ]
  },
  {
   "cell_type": "code",
   "execution_count": null,
   "id": "a7e9bd02",
   "metadata": {},
   "outputs": [],
   "source": [
    "print(df.info())"
   ]
  },
  {
   "cell_type": "code",
   "execution_count": null,
   "id": "f96c3546",
   "metadata": {},
   "outputs": [],
   "source": [
    "df = df.apply(pd.to_numeric, errors='coerce')\n",
    "df.mean()"
   ]
  },
  {
   "cell_type": "code",
   "execution_count": null,
   "id": "20ee56e7",
   "metadata": {},
   "outputs": [],
   "source": [
    "df.max()"
   ]
  },
  {
   "cell_type": "code",
   "execution_count": null,
   "id": "cf428baf",
   "metadata": {},
   "outputs": [],
   "source": [
    "df.min()"
   ]
  },
  {
   "cell_type": "code",
   "execution_count": null,
   "id": "8983f5ac",
   "metadata": {},
   "outputs": [],
   "source": [
    "df.median()"
   ]
  },
  {
   "cell_type": "code",
   "execution_count": null,
   "id": "3b10f281",
   "metadata": {},
   "outputs": [],
   "source": [
    "df.std()"
   ]
  },
  {
   "cell_type": "code",
   "execution_count": null,
   "id": "9f90b9d6",
   "metadata": {},
   "outputs": [],
   "source": [
    "print(df.loc[:,'LoanAmount'].mean())"
   ]
  },
  {
   "cell_type": "code",
   "execution_count": null,
   "id": "408fa02c",
   "metadata": {},
   "outputs": [],
   "source": [
    "df.mean(axis = 1)[0:5]"
   ]
  },
  {
   "cell_type": "code",
   "execution_count": null,
   "id": "b9ccf61a",
   "metadata": {},
   "outputs": [],
   "source": [
    "print(df.loc[:,'LoanAmount'].median())"
   ]
  },
  {
   "cell_type": "code",
   "execution_count": null,
   "id": "c6936e6d",
   "metadata": {},
   "outputs": [],
   "source": [
    "df.median(axis = 1)[0:5]"
   ]
  },
  {
   "cell_type": "code",
   "execution_count": null,
   "id": "426005d3",
   "metadata": {},
   "outputs": [],
   "source": [
    "df.var()"
   ]
  },
  {
   "cell_type": "code",
   "execution_count": null,
   "id": "6f6b8589",
   "metadata": {},
   "outputs": [],
   "source": [
    "df[[\"Gender\",\"LoanAmount\"]].groupby(\"Gender\").mean()"
   ]
  },
  {
   "cell_type": "code",
   "execution_count": null,
   "id": "64389109",
   "metadata": {},
   "outputs": [],
   "source": [
    "df[[\"Gender\",\"LoanAmount\"]].groupby(\"Gender\").median()"
   ]
  },
  {
   "cell_type": "code",
   "execution_count": null,
   "id": "a7132504",
   "metadata": {},
   "outputs": [],
   "source": [
    "df[[\"Self_Employed\",\"LoanAmount\"]].groupby(\"Self_Employed\").mean()"
   ]
  }
 ],
 "metadata": {
  "kernelspec": {
   "display_name": "Python 3",
   "language": "python",
   "name": "python3"
  },
  "language_info": {
   "codemirror_mode": {
    "name": "ipython",
    "version": 3
   },
   "file_extension": ".py",
   "mimetype": "text/x-python",
   "name": "python",
   "nbconvert_exporter": "python",
   "pygments_lexer": "ipython3",
   "version": "3.11.2"
  }
 },
 "nbformat": 4,
 "nbformat_minor": 5
}
