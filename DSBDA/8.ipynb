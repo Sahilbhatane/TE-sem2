{
 "cells": [
  {
   "cell_type": "code",
   "execution_count": 1,
   "id": "410e418d",
   "metadata": {},
   "outputs": [],
   "source": [
    "import pandas as pd\n",
    "import numpy as np\n",
    "import matplotlib.pyplot as plt\n",
    "import seaborn as sns"
   ]
  },
  {
   "cell_type": "code",
   "execution_count": null,
   "id": "03ab9d39",
   "metadata": {},
   "outputs": [],
   "source": [
    "dataset = sns.load_dataset('titanic')\n",
    "dataset.head()"
   ]
  },
  {
   "cell_type": "code",
   "execution_count": null,
   "id": "5c7e4e1b",
   "metadata": {},
   "outputs": [],
   "source": [
    "sns.distplot(dataset['fare'])"
   ]
  },
  {
   "cell_type": "code",
   "execution_count": null,
   "id": "d23e969b",
   "metadata": {},
   "outputs": [],
   "source": [
    "sns.distplot(dataset['fare'], kde=False)"
   ]
  },
  {
   "cell_type": "code",
   "execution_count": null,
   "id": "46717f2f",
   "metadata": {},
   "outputs": [],
   "source": [
    "#You can also pass the value for the bins parameter in order to see more or less details in the graph.\n",
    "sns.jointplot(x='age', y='fare', data=dataset)\n"
   ]
  },
  {
   "cell_type": "code",
   "execution_count": null,
   "id": "f73283f5",
   "metadata": {},
   "outputs": [],
   "source": [
    "sns.distplot(dataset['fare'], kde=False, bins=10)"
   ]
  },
  {
   "cell_type": "code",
   "execution_count": null,
   "id": "7cff82d5",
   "metadata": {},
   "outputs": [],
   "source": [
    "sns.jointplot(x='age', y='fare', data=dataset, kind='hex')"
   ]
  },
  {
   "cell_type": "code",
   "execution_count": null,
   "id": "ada6b946",
   "metadata": {},
   "outputs": [],
   "source": [
    "#The Pair Plot The paitplot() is a type of distribution plot that basically plots a joint plot for all the possible combination\n",
    "dataset = dataset.dropna()\n",
    "sns.pairplot(dataset, hue='sex')"
   ]
  },
  {
   "cell_type": "code",
   "execution_count": null,
   "id": "7b2abda0",
   "metadata": {},
   "outputs": [],
   "source": [
    "#The rugplot() is used to draw small bars along x-axis for each point in the dataset\n",
    "sns.rugplot(dataset['fare'])"
   ]
  }
 ],
 "metadata": {
  "kernelspec": {
   "display_name": "Python 3",
   "language": "python",
   "name": "python3"
  },
  "language_info": {
   "codemirror_mode": {
    "name": "ipython",
    "version": 3
   },
   "file_extension": ".py",
   "mimetype": "text/x-python",
   "name": "python",
   "nbconvert_exporter": "python",
   "pygments_lexer": "ipython3",
   "version": "3.11.2"
  }
 },
 "nbformat": 4,
 "nbformat_minor": 5
}
