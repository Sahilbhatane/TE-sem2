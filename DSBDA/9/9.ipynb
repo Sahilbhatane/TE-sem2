{
 "cells": [
  {
   "cell_type": "code",
   "execution_count": 1,
   "id": "f1da4a80",
   "metadata": {},
   "outputs": [],
   "source": [
    "import numpy as np \n",
    "import pandas as pd \n",
    "import matplotlib.pyplot as plt \n",
    "import seaborn as sns \n",
    "from seaborn import load_dataset"
   ]
  },
  {
   "cell_type": "code",
   "execution_count": 2,
   "id": "5a51b152",
   "metadata": {},
   "outputs": [],
   "source": [
    "#titanic dataset \n",
    "data = pd.read_csv(\"titanic_Dataset.csv\")"
   ]
  },
  {
   "cell_type": "code",
   "execution_count": 3,
   "id": "21e93d4c",
   "metadata": {},
   "outputs": [],
   "source": [
    "#tips dataset \n",
    "tips = load_dataset(\"tips\")"
   ]
  },
  {
   "cell_type": "code",
   "execution_count": null,
   "id": "f9b9d32c",
   "metadata": {},
   "outputs": [],
   "source": [
    "sns.countplot(data['Survived'])\n",
    "plt.show()"
   ]
  },
  {
   "cell_type": "code",
   "execution_count": null,
   "id": "fe8b622a",
   "metadata": {},
   "outputs": [],
   "source": [
    "data['Sex'].value_counts().plot(kind=\"pie\", autopct=\"%.2f\")\n",
    "plt.show()"
   ]
  },
  {
   "cell_type": "code",
   "execution_count": null,
   "id": "755bd91b",
   "metadata": {},
   "outputs": [],
   "source": [
    "plt.hist(data['Age'], bins=5) \n",
    "plt.show()"
   ]
  },
  {
   "cell_type": "code",
   "execution_count": null,
   "id": "63052542",
   "metadata": {},
   "outputs": [],
   "source": [
    "sns.distplot(data['Age'])  \n",
    "plt.show()"
   ]
  },
  {
   "cell_type": "code",
   "execution_count": null,
   "id": "92f042d3",
   "metadata": {},
   "outputs": [],
   "source": [
    "sns.scatterplot(x=\"total_bill\", y=\"tip\", hue=\"sex\", data=tips)\n",
    "plt.title(\"Scatter plot of Total Bill vs Tip\")\n",
    "plt.show()\n"
   ]
  },
  {
   "cell_type": "code",
   "execution_count": null,
   "id": "6ffabe25",
   "metadata": {},
   "outputs": [],
   "source": [
    "sns.barplot(x='Pclass', y='Age', hue='Sex', data=data)\n",
    "plt.title(\"AverageAge by Class and Gender\")\n",
    "plt.show()\n"
   ]
  },
  {
   "cell_type": "code",
   "execution_count": null,
   "id": "fe0ce1ff",
   "metadata": {},
   "outputs": [],
   "source": [
    "sns.boxplot(x='Sex', y='Age', data=data)\n",
    "plt.title(\"Age Distribution by Sex\")\n",
    "plt.show()\n"
   ]
  },
  {
   "cell_type": "code",
   "execution_count": null,
   "id": "6b0a2899",
   "metadata": {},
   "outputs": [],
   "source": [
    "sns.boxplot(x='Sex', y='Age', hue='Survived', data=data)\n",
    "plt.title(\"Age distribution by Sex and Survival\")\n",
    "plt.show()\n"
   ]
  },
  {
   "cell_type": "code",
   "execution_count": null,
   "id": "a13922cd",
   "metadata": {},
   "outputs": [],
   "source": [
    "sns.distplot(data[data['Survived'] == 0]['Age'], hist=False, color=\"blue\")\n",
    "sns.distplot(data[data['Survived'] == 1]['Age'], hist=False, color=\"orange\") \n",
    "plt.show()"
   ]
  },
  {
   "cell_type": "code",
   "execution_count": null,
   "id": "7ffc1c63",
   "metadata": {},
   "outputs": [],
   "source": [
    "pd.crosstab(data['Pclass'], data['Survived'])"
   ]
  },
  {
   "cell_type": "code",
   "execution_count": null,
   "id": "edec7372",
   "metadata": {},
   "outputs": [],
   "source": [
    "sns.heatmap(pd.crosstab(data['Pclass'], data['Survived']))"
   ]
  },
  {
   "cell_type": "code",
   "execution_count": null,
   "id": "5a70d65e",
   "metadata": {},
   "outputs": [],
   "source": [
    "sns.clustermap(pd.crosstab(data['Parch'], data['Survived']))\n",
    "plt.show()"
   ]
  }
 ],
 "metadata": {
  "kernelspec": {
   "display_name": "Python 3",
   "language": "python",
   "name": "python3"
  },
  "language_info": {
   "codemirror_mode": {
    "name": "ipython",
    "version": 3
   },
   "file_extension": ".py",
   "mimetype": "text/x-python",
   "name": "python",
   "nbconvert_exporter": "python",
   "pygments_lexer": "ipython3",
   "version": "3.11.2"
  }
 },
 "nbformat": 4,
 "nbformat_minor": 5
}
