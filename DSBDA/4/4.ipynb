{
 "cells": [
  {
   "cell_type": "code",
   "execution_count": 1,
   "id": "6ee77c6d",
   "metadata": {},
   "outputs": [],
   "source": [
    "import pandas as pd\n",
    "import numpy as np\n",
    "from sklearn import linear_model\n",
    "from sklearn.model_selection import train_test_split"
   ]
  },
  {
   "cell_type": "code",
   "execution_count": 2,
   "id": "454edccd",
   "metadata": {},
   "outputs": [],
   "source": [
    "#Load dataset\n",
    "df=pd.read_csv(\"boston_housing.csv\")"
   ]
  },
  {
   "cell_type": "code",
   "execution_count": null,
   "id": "2e2ad5b6",
   "metadata": {},
   "outputs": [],
   "source": [
    "#View dimension of dataset\n",
    "df.shape"
   ]
  },
  {
   "cell_type": "code",
   "execution_count": null,
   "id": "4d1f5db9",
   "metadata": {},
   "outputs": [],
   "source": [
    "#View some statistics of dataset mean,max,min etc\n",
    "df.describe()"
   ]
  },
  {
   "cell_type": "code",
   "execution_count": null,
   "id": "8cdafd34",
   "metadata": {},
   "outputs": [],
   "source": [
    "#View dataset features and attribute information\n",
    "df.head()"
   ]
  },
  {
   "cell_type": "code",
   "execution_count": null,
   "id": "99eb993d",
   "metadata": {},
   "outputs": [],
   "source": [
    "# Assign feature variable to df_x \n",
    "df_x=df\n",
    "print(df_x)"
   ]
  },
  {
   "cell_type": "code",
   "execution_count": null,
   "id": "6bc66a00",
   "metadata": {},
   "outputs": [],
   "source": [
    "# Assign medv variable to df_y\n",
    "df_y=df.price\n",
    "print(df_y)"
   ]
  },
  {
   "cell_type": "code",
   "execution_count": 8,
   "id": "2871e09f",
   "metadata": {},
   "outputs": [],
   "source": [
    "#Initialize the linear regression model\n",
    "reg =linear_model.LinearRegression()"
   ]
  },
  {
   "cell_type": "code",
   "execution_count": 9,
   "id": "fc372214",
   "metadata": {},
   "outputs": [],
   "source": [
    "#Split the data into 67% training and 33% testing data\n",
    "x_train, x_test, y_train, y_test = train_test_split(df_x, df_y, test_size=0.33, random_state=42)"
   ]
  },
  {
   "cell_type": "code",
   "execution_count": null,
   "id": "f3ea06a5",
   "metadata": {},
   "outputs": [],
   "source": [
    "#Train our model with the training data\n",
    "reg.fit(x_train, y_train)"
   ]
  },
  {
   "cell_type": "code",
   "execution_count": null,
   "id": "fc7a1e73",
   "metadata": {},
   "outputs": [],
   "source": [
    "#Print the coefecients/weights for each feature/column of our model\n",
    "print(reg.coef_)"
   ]
  },
  {
   "cell_type": "code",
   "execution_count": null,
   "id": "1148c07d",
   "metadata": {},
   "outputs": [],
   "source": [
    "#print our price predictions on our test data\n",
    "y_pred = reg.predict(x_test)\n",
    "print(y_pred)"
   ]
  },
  {
   "cell_type": "code",
   "execution_count": null,
   "id": "ba9f9f5b",
   "metadata": {},
   "outputs": [],
   "source": [
    "#print the predicted price and actual price of houses from the testing data set row 0\n",
    "y_pred[0]"
   ]
  },
  {
   "cell_type": "code",
   "execution_count": null,
   "id": "2f5ae454",
   "metadata": {},
   "outputs": [],
   "source": [
    "y_test[0]"
   ]
  },
  {
   "cell_type": "code",
   "execution_count": null,
   "id": "c626a8a6",
   "metadata": {},
   "outputs": [],
   "source": [
    "# To check the modeles performance / accuracy\n",
    "print(np.mean((y_pred-y_test)**2))"
   ]
  }
 ],
 "metadata": {
  "kernelspec": {
   "display_name": "Python 3",
   "language": "python",
   "name": "python3"
  },
  "language_info": {
   "codemirror_mode": {
    "name": "ipython",
    "version": 3
   },
   "file_extension": ".py",
   "mimetype": "text/x-python",
   "name": "python",
   "nbconvert_exporter": "python",
   "pygments_lexer": "ipython3",
   "version": "3.11.2"
  }
 },
 "nbformat": 4,
 "nbformat_minor": 5
}
